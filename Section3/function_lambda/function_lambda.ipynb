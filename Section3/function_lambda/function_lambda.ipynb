{
  "nbformat": 4,
  "nbformat_minor": 0,
  "metadata": {
    "colab": {
      "name": "function_lambda.ipynb",
      "provenance": [],
      "collapsed_sections": []
    },
    "kernelspec": {
      "name": "python3",
      "display_name": "Python 3"
    },
    "language_info": {
      "name": "python"
    }
  },
  "cells": [
    {
      "cell_type": "code",
      "metadata": {
        "id": "ZigRaYasLLv3"
      },
      "source": [
        "def my_function():\n",
        "  print(\"within a function\")"
      ],
      "execution_count": 1,
      "outputs": []
    },
    {
      "cell_type": "code",
      "metadata": {
        "colab": {
          "base_uri": "https://localhost:8080/"
        },
        "id": "kjhS7HzELaUz",
        "outputId": "88690afc-9c05-4bce-c3c8-45777d3faa56"
      },
      "source": [
        "my_function()"
      ],
      "execution_count": 3,
      "outputs": [
        {
          "output_type": "stream",
          "text": [
            "within a function\n"
          ],
          "name": "stdout"
        }
      ]
    },
    {
      "cell_type": "code",
      "metadata": {
        "id": "CizBvj7ZLf2O"
      },
      "source": [
        "def calculat_sum(a,b):\n",
        "  return a+b"
      ],
      "execution_count": 4,
      "outputs": []
    },
    {
      "cell_type": "code",
      "metadata": {
        "colab": {
          "base_uri": "https://localhost:8080/"
        },
        "id": "WbrIuHh0Lk27",
        "outputId": "6d7ea6b8-948a-4a70-db22-019180b6a249"
      },
      "source": [
        "print(calculat_sum(4,5))"
      ],
      "execution_count": 5,
      "outputs": [
        {
          "output_type": "stream",
          "text": [
            "9\n"
          ],
          "name": "stdout"
        }
      ]
    },
    {
      "cell_type": "code",
      "metadata": {
        "id": "Gi83kZV9Lqmy"
      },
      "source": [
        "def calculat_sum_multiplication(a,b):\n",
        "  return a+b, a*b"
      ],
      "execution_count": 8,
      "outputs": []
    },
    {
      "cell_type": "code",
      "metadata": {
        "id": "osAZ1w3LLyEO"
      },
      "source": [
        "var_sum,var_mult = calculat_sum_multiplication(10,3)"
      ],
      "execution_count": 9,
      "outputs": []
    },
    {
      "cell_type": "code",
      "metadata": {
        "colab": {
          "base_uri": "https://localhost:8080/"
        },
        "id": "gsAzRQEEL5AQ",
        "outputId": "f970a567-bebe-4414-8e09-904e5924ec99"
      },
      "source": [
        "print(var_sum)\n",
        "print(var_mult)"
      ],
      "execution_count": 10,
      "outputs": [
        {
          "output_type": "stream",
          "text": [
            "13\n",
            "30\n"
          ],
          "name": "stdout"
        }
      ]
    },
    {
      "cell_type": "code",
      "metadata": {
        "id": "X4G_1t06MIXy"
      },
      "source": [
        "my_var = lambda x : x +100"
      ],
      "execution_count": 11,
      "outputs": []
    },
    {
      "cell_type": "code",
      "metadata": {
        "colab": {
          "base_uri": "https://localhost:8080/"
        },
        "id": "_QcDLn3SMZwz",
        "outputId": "8c25a4e5-8073-4029-81d9-82d398240433"
      },
      "source": [
        "print(my_var(10))"
      ],
      "execution_count": 12,
      "outputs": [
        {
          "output_type": "stream",
          "text": [
            "110\n"
          ],
          "name": "stdout"
        }
      ]
    },
    {
      "cell_type": "code",
      "metadata": {
        "id": "BGQRS5w1MfJu"
      },
      "source": [
        "my_var = lambda a,b : a+b"
      ],
      "execution_count": 13,
      "outputs": []
    },
    {
      "cell_type": "code",
      "metadata": {
        "colab": {
          "base_uri": "https://localhost:8080/"
        },
        "id": "yRGPF1fUMqqv",
        "outputId": "7ac710f5-4143-418b-e2cf-1ea34f5befb3"
      },
      "source": [
        "print(my_var(4,5))"
      ],
      "execution_count": 14,
      "outputs": [
        {
          "output_type": "stream",
          "text": [
            "9\n"
          ],
          "name": "stdout"
        }
      ]
    },
    {
      "cell_type": "code",
      "metadata": {
        "id": "grNv-A6xMxc3"
      },
      "source": [
        ""
      ],
      "execution_count": null,
      "outputs": []
    }
  ]
}